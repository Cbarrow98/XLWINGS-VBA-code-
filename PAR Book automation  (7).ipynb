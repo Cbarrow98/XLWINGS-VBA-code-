{
 "cells": [
  {
   "cell_type": "code",
   "execution_count": 362,
   "metadata": {},
   "outputs": [
    {
     "data": {
      "text/html": [
       "<style>.container { width:100% !important; }</style>"
      ],
      "text/plain": [
       "<IPython.core.display.HTML object>"
      ]
     },
     "metadata": {},
     "output_type": "display_data"
    }
   ],
   "source": [
    "##importing the required mdoules for script\n",
    "\n",
    "import pandas as pd\n",
    "import numpy as np\n",
    "import xlwings as xw\n",
    "import glob \n",
    "import os\n",
    "import shutil\n",
    "import regex as re\n",
    "from xlwings.constants import SortOrder\n",
    "from IPython.core.display import display, HTML\n",
    "xw.display_alerts = False\n",
    "display(HTML(\"<style>.container { width:100% !important; }</style>\"))"
   ]
  },
  {
   "cell_type": "code",
   "execution_count": 364,
   "metadata": {},
   "outputs": [],
   "source": [
    "#relative dates and links\n",
    "#needs to be updated monthly \n",
    "year = \"2021\"\n",
    "month = 'September'\n",
    "date = \"09-2021\"\n",
    "full_date = '09.30.2021'\n",
    "template = \"G:\\\\Internal\\\\CRT\\\\Team projects\\\\Charlies projects\\\\SDHY NBHY PAR Books\\\\Template\\\\NB Short Duration High Yield Supplemental Statistics TEMPLATE.xlsm\"\n",
    "destination = (\"G:\\\\Internal\\\\CRT\\\\Team projects\\\\Charlies projects\\\\SDHY NBHY PAR Books\\\\stats data\\\\\")"
   ]
  },
  {
   "cell_type": "code",
   "execution_count": 365,
   "metadata": {},
   "outputs": [
    {
     "data": {
      "text/plain": [
       "['G:\\\\Internal\\\\CRT\\\\Team projects\\\\Charlies projects\\\\SDHY NBHY PAR Books\\\\stats data\\\\2021\\\\09-2021\\\\PAR Attr Rtg-173489772825.xlsx',\n",
       " 'G:\\\\Internal\\\\CRT\\\\Team projects\\\\Charlies projects\\\\SDHY NBHY PAR Books\\\\stats data\\\\2021\\\\09-2021\\\\PAR Attr Sector-173611338508.xlsx',\n",
       " 'G:\\\\Internal\\\\CRT\\\\Team projects\\\\Charlies projects\\\\SDHY NBHY PAR Books\\\\stats data\\\\2021\\\\09-2021\\\\PAR Attr Ticker aa-173706844818.xlsx',\n",
       " 'G:\\\\Internal\\\\CRT\\\\Team projects\\\\Charlies projects\\\\SDHY NBHY PAR Books\\\\stats data\\\\2021\\\\09-2021\\\\SDHY Supp Stats Chaz-173897203756.xlsx',\n",
       " 'G:\\\\Internal\\\\CRT\\\\Team projects\\\\Charlies projects\\\\SDHY NBHY PAR Books\\\\stats data\\\\2021\\\\09-2021\\\\Static Data-173743687393.xlsx']"
      ]
     },
     "execution_count": 365,
     "metadata": {},
     "output_type": "execute_result"
    }
   ],
   "source": [
    "#SDSHY\n",
    "destination = (\"G:\\\\Internal\\\\CRT\\\\Team projects\\\\Charlies projects\\\\SDHY NBHY PAR Books\\\\stats data\\\\\")\n",
    "template = \"G:\\\\Internal\\\\CRT\\\\Team projects\\\\Charlies projects\\\\SDHY NBHY PAR Books\\\\Template\\\\NB Short Duration High Yield Supplemental Statistics TEMPLATE.xlsm\"\n",
    "wb = xw.Book(template, update_links=False)\n",
    "wb.display_alerts = False\n",
    "\n",
    "#SDSHY PAR BOOK\n",
    "main_sheet = wb.sheets['Master']\n",
    "Issuer_sheet = wb.sheets['Issuers']\n",
    "\n",
    "path = ('G:\\\\Internal\\\\CRT\\\\Team projects\\\\Charlies projects\\\\SDHY NBHY PAR Books\\\\stats data')\n",
    "final_path = (path + '\\\\' + year + '\\\\' + date + '\\\\' + '*.*')\n",
    "LIST = glob.glob(final_path)\n",
    "LIST"
   ]
  },
  {
   "cell_type": "code",
   "execution_count": 366,
   "metadata": {
    "scrolled": true
   },
   "outputs": [
    {
     "data": {
      "text/html": [
       "<div>\n",
       "<style scoped>\n",
       "    .dataframe tbody tr th:only-of-type {\n",
       "        vertical-align: middle;\n",
       "    }\n",
       "\n",
       "    .dataframe tbody tr th {\n",
       "        vertical-align: top;\n",
       "    }\n",
       "\n",
       "    .dataframe thead th {\n",
       "        text-align: right;\n",
       "    }\n",
       "</style>\n",
       "<table border=\"1\" class=\"dataframe\">\n",
       "  <thead>\n",
       "    <tr style=\"text-align: right;\">\n",
       "      <th></th>\n",
       "      <th>file_names</th>\n",
       "    </tr>\n",
       "  </thead>\n",
       "  <tbody>\n",
       "    <tr>\n",
       "      <th>0</th>\n",
       "      <td>G:\\Internal\\CRT\\Team projects\\Charlies project...</td>\n",
       "    </tr>\n",
       "    <tr>\n",
       "      <th>1</th>\n",
       "      <td>G:\\Internal\\CRT\\Team projects\\Charlies project...</td>\n",
       "    </tr>\n",
       "    <tr>\n",
       "      <th>2</th>\n",
       "      <td>G:\\Internal\\CRT\\Team projects\\Charlies project...</td>\n",
       "    </tr>\n",
       "    <tr>\n",
       "      <th>3</th>\n",
       "      <td>G:\\Internal\\CRT\\Team projects\\Charlies project...</td>\n",
       "    </tr>\n",
       "    <tr>\n",
       "      <th>4</th>\n",
       "      <td>G:\\Internal\\CRT\\Team projects\\Charlies project...</td>\n",
       "    </tr>\n",
       "  </tbody>\n",
       "</table>\n",
       "</div>"
      ],
      "text/plain": [
       "                                          file_names\n",
       "0  G:\\Internal\\CRT\\Team projects\\Charlies project...\n",
       "1  G:\\Internal\\CRT\\Team projects\\Charlies project...\n",
       "2  G:\\Internal\\CRT\\Team projects\\Charlies project...\n",
       "3  G:\\Internal\\CRT\\Team projects\\Charlies project...\n",
       "4  G:\\Internal\\CRT\\Team projects\\Charlies project..."
      ]
     },
     "execution_count": 366,
     "metadata": {},
     "output_type": "execute_result"
    }
   ],
   "source": [
    "pd.set_option(\"display.max_columns\", 100)\n",
    "df = pd.DataFrame({'file_names':LIST})\n",
    "df.head()"
   ]
  },
  {
   "cell_type": "code",
   "execution_count": 367,
   "metadata": {},
   "outputs": [],
   "source": [
    "#needs to be double checked the are picking up right order in folder\"\n",
    "ratings_package = df[\"file_names\"].iloc[0]\n",
    "sector_package = df[\"file_names\"].iloc[1]\n",
    "ticker_package = df[\"file_names\"].iloc[2]\n",
    "tab_stats_package = df[\"file_names\"].iloc[3]\n",
    "static_package = df[\"file_names\"].iloc[4]"
   ]
  },
  {
   "cell_type": "code",
   "execution_count": 368,
   "metadata": {},
   "outputs": [
    {
     "name": "stdout",
     "output_type": "stream",
     "text": [
      "Data_tab\n",
      "SectorPerf\n",
      "RatingsPerf\n",
      "Ticker\n",
      "Static data\n"
     ]
    }
   ],
   "source": [
    "#copying and pasting the needed explore sheets and pasting them into the template blank tabs and executing the macros\n",
    "ser_sheet = ['Data_tab','SectorPerf', 'RatingsPerf', 'Ticker', 'Static data']\n",
    "ser_pkg =   [tab_stats_package, sector_package, ratings_package, ticker_package, static_package]\n",
    "ser_sht =   ['SDHY Supp Stats Chaz','SDHY PAR Attr Chaz', 'SDHY PAR Attr Chaz', 'SDHY PAR Attr Chaz', 'SDHY PAR Attr Chaz']\n",
    "\n",
    "for each in range(len(ser_sheet)):\n",
    "    print(ser_sheet[each])\n",
    "    xlsheet = wb.sheets[ser_sheet[each]]\n",
    "    xlsheet.select()\n",
    "    xlsheet.range(\"A1\").select()     \n",
    "    data_package_sheet = xw.Book(ser_pkg[each])\n",
    "    gp_sheet = data_package_sheet.sheets(ser_sht[each])\n",
    "    green = gp_sheet.range('A:Z').copy()\n",
    "    xlsheet['A:Z'].paste()\n",
    "    data_package_sheet.app.api.CutCopyMode = False\n",
    "    data_package_sheet.close()\n",
    "    \n",
    "Issuer_sheet.select()\n",
    "ExcelMacro = wb.macro('Issuers')\n",
    "ExcelMacro()\n",
    "\n",
    "main_sheet.range('F3').value = 'WORKSPACE'\n",
    "main_sheet.range('F4').value = 'https://nbg.blackrock.com/apps/explore/?workspace=114127'\n",
    "main_sheet.range('B22').value = 'Modified Duration Contribution reference'\n",
    "main_sheet.range('A22').value = 'Portfolio %'\n",
    "main_sheet.range('F22').value = 'Active Weight Check Portfolio %'\n",
    "main_sheet.select()   "
   ]
  },
  {
   "cell_type": "code",
   "execution_count": 242,
   "metadata": {},
   "outputs": [
    {
     "ename": "com_error",
     "evalue": "(-2147352567, 'Exception occurred.', (0, None, None, None, 0, -2146788248), None)",
     "output_type": "error",
     "traceback": [
      "\u001b[1;31m---------------------------------------------------------------------------\u001b[0m",
      "\u001b[1;31mcom_error\u001b[0m                                 Traceback (most recent call last)",
      "\u001b[1;32m~\\AppData\\Local\\Temp\\1/ipykernel_19924/2507272880.py\u001b[0m in \u001b[0;36m<module>\u001b[1;34m\u001b[0m\n\u001b[0;32m      1\u001b[0m \u001b[1;31m#after checking and happy with figures execute this and will save the stats to its requried folder in the right formatt\u001b[0m\u001b[1;33m\u001b[0m\u001b[1;33m\u001b[0m\u001b[1;33m\u001b[0m\u001b[0m\n\u001b[0;32m      2\u001b[0m \u001b[0mExcelMacro2\u001b[0m \u001b[1;33m=\u001b[0m \u001b[0mwb\u001b[0m\u001b[1;33m.\u001b[0m\u001b[0mmacro\u001b[0m\u001b[1;33m(\u001b[0m\u001b[1;34m'SaveFile'\u001b[0m\u001b[1;33m)\u001b[0m\u001b[1;33m\u001b[0m\u001b[1;33m\u001b[0m\u001b[0m\n\u001b[1;32m----> 3\u001b[1;33m \u001b[0mExcelMacro2\u001b[0m\u001b[1;33m(\u001b[0m\u001b[1;33m)\u001b[0m\u001b[1;33m\u001b[0m\u001b[1;33m\u001b[0m\u001b[0m\n\u001b[0m",
      "\u001b[1;32mC:\\ProgramData\\Anaconda3\\lib\\site-packages\\xlwings\\main.py\u001b[0m in \u001b[0;36mrun\u001b[1;34m(self, *args)\u001b[0m\n\u001b[0;32m   3975\u001b[0m                 \u001b[1;32mif\u001b[0m \u001b[0misinstance\u001b[0m\u001b[1;33m(\u001b[0m\u001b[0mi\u001b[0m\u001b[1;33m,\u001b[0m \u001b[1;33m(\u001b[0m\u001b[0mApp\u001b[0m\u001b[1;33m,\u001b[0m \u001b[0mBook\u001b[0m\u001b[1;33m,\u001b[0m \u001b[0mSheet\u001b[0m\u001b[1;33m,\u001b[0m \u001b[0mRange\u001b[0m\u001b[1;33m,\u001b[0m \u001b[0mShape\u001b[0m\u001b[1;33m,\u001b[0m \u001b[0mChart\u001b[0m\u001b[1;33m,\u001b[0m \u001b[0mPicture\u001b[0m\u001b[1;33m,\u001b[0m \u001b[0mName\u001b[0m\u001b[1;33m)\u001b[0m\u001b[1;33m)\u001b[0m\u001b[1;33m\u001b[0m\u001b[1;33m\u001b[0m\u001b[0m\n\u001b[0;32m   3976\u001b[0m                 else i for i in args]\n\u001b[1;32m-> 3977\u001b[1;33m         \u001b[1;32mreturn\u001b[0m \u001b[0mself\u001b[0m\u001b[1;33m.\u001b[0m\u001b[0mapp\u001b[0m\u001b[1;33m.\u001b[0m\u001b[0mimpl\u001b[0m\u001b[1;33m.\u001b[0m\u001b[0mrun\u001b[0m\u001b[1;33m(\u001b[0m\u001b[0mself\u001b[0m\u001b[1;33m.\u001b[0m\u001b[0mmacro\u001b[0m\u001b[1;33m,\u001b[0m \u001b[0margs\u001b[0m\u001b[1;33m)\u001b[0m\u001b[1;33m\u001b[0m\u001b[1;33m\u001b[0m\u001b[0m\n\u001b[0m\u001b[0;32m   3978\u001b[0m \u001b[1;33m\u001b[0m\u001b[0m\n\u001b[0;32m   3979\u001b[0m     \u001b[0m__call__\u001b[0m \u001b[1;33m=\u001b[0m \u001b[0mrun\u001b[0m\u001b[1;33m\u001b[0m\u001b[1;33m\u001b[0m\u001b[0m\n",
      "\u001b[1;32mC:\\ProgramData\\Anaconda3\\lib\\site-packages\\xlwings\\_xlwindows.py\u001b[0m in \u001b[0;36mrun\u001b[1;34m(self, macro, args)\u001b[0m\n\u001b[0;32m    455\u001b[0m \u001b[1;33m\u001b[0m\u001b[0m\n\u001b[0;32m    456\u001b[0m     \u001b[1;32mdef\u001b[0m \u001b[0mrun\u001b[0m\u001b[1;33m(\u001b[0m\u001b[0mself\u001b[0m\u001b[1;33m,\u001b[0m \u001b[0mmacro\u001b[0m\u001b[1;33m,\u001b[0m \u001b[0margs\u001b[0m\u001b[1;33m)\u001b[0m\u001b[1;33m:\u001b[0m\u001b[1;33m\u001b[0m\u001b[1;33m\u001b[0m\u001b[0m\n\u001b[1;32m--> 457\u001b[1;33m         \u001b[1;32mreturn\u001b[0m \u001b[0mself\u001b[0m\u001b[1;33m.\u001b[0m\u001b[0mxl\u001b[0m\u001b[1;33m.\u001b[0m\u001b[0mRun\u001b[0m\u001b[1;33m(\u001b[0m\u001b[0mmacro\u001b[0m\u001b[1;33m,\u001b[0m \u001b[1;33m*\u001b[0m\u001b[0margs\u001b[0m\u001b[1;33m)\u001b[0m\u001b[1;33m\u001b[0m\u001b[1;33m\u001b[0m\u001b[0m\n\u001b[0m\u001b[0;32m    458\u001b[0m \u001b[1;33m\u001b[0m\u001b[0m\n\u001b[0;32m    459\u001b[0m     \u001b[1;33m@\u001b[0m\u001b[0mproperty\u001b[0m\u001b[1;33m\u001b[0m\u001b[1;33m\u001b[0m\u001b[0m\n",
      "\u001b[1;32mC:\\ProgramData\\Anaconda3\\lib\\site-packages\\xlwings\\_xlwindows.py\u001b[0m in \u001b[0;36m__call__\u001b[1;34m(self, *args, **kwargs)\u001b[0m\n\u001b[0;32m     64\u001b[0m         \u001b[1;32mwhile\u001b[0m \u001b[1;32mTrue\u001b[0m\u001b[1;33m:\u001b[0m\u001b[1;33m\u001b[0m\u001b[1;33m\u001b[0m\u001b[0m\n\u001b[0;32m     65\u001b[0m             \u001b[1;32mtry\u001b[0m\u001b[1;33m:\u001b[0m\u001b[1;33m\u001b[0m\u001b[1;33m\u001b[0m\u001b[0m\n\u001b[1;32m---> 66\u001b[1;33m                 \u001b[0mv\u001b[0m \u001b[1;33m=\u001b[0m \u001b[0mself\u001b[0m\u001b[1;33m.\u001b[0m\u001b[0m__method\u001b[0m\u001b[1;33m(\u001b[0m\u001b[1;33m*\u001b[0m\u001b[0margs\u001b[0m\u001b[1;33m,\u001b[0m \u001b[1;33m**\u001b[0m\u001b[0mkwargs\u001b[0m\u001b[1;33m)\u001b[0m\u001b[1;33m\u001b[0m\u001b[1;33m\u001b[0m\u001b[0m\n\u001b[0m\u001b[0;32m     67\u001b[0m                 \u001b[1;32mif\u001b[0m \u001b[0misinstance\u001b[0m\u001b[1;33m(\u001b[0m\u001b[0mv\u001b[0m\u001b[1;33m,\u001b[0m \u001b[1;33m(\u001b[0m\u001b[0mCDispatch\u001b[0m\u001b[1;33m,\u001b[0m \u001b[0mCoClassBaseClass\u001b[0m\u001b[1;33m,\u001b[0m \u001b[0mDispatchBaseClass\u001b[0m\u001b[1;33m)\u001b[0m\u001b[1;33m)\u001b[0m\u001b[1;33m:\u001b[0m\u001b[1;33m\u001b[0m\u001b[1;33m\u001b[0m\u001b[0m\n\u001b[0;32m     68\u001b[0m                     \u001b[1;32mreturn\u001b[0m \u001b[0mCOMRetryObjectWrapper\u001b[0m\u001b[1;33m(\u001b[0m\u001b[0mv\u001b[0m\u001b[1;33m)\u001b[0m\u001b[1;33m\u001b[0m\u001b[1;33m\u001b[0m\u001b[0m\n",
      "\u001b[1;32m~\\AppData\\Local\\Temp\\1\\gen_py\\3.7\\00020813-0000-0000-C000-000000000046x0x1x9.py\u001b[0m in \u001b[0;36mRun\u001b[1;34m(self, Macro, Arg1, Arg2, Arg3, Arg4, Arg5, Arg6, Arg7, Arg8, Arg9, Arg10, Arg11, Arg12, Arg13, Arg14, Arg15, Arg16, Arg17, Arg18, Arg19, Arg20, Arg21, Arg22, Arg23, Arg24, Arg25, Arg26, Arg27, Arg28, Arg29, Arg30)\u001b[0m\n\u001b[0;32m  44658\u001b[0m                         \u001b[1;33m,\u001b[0m \u001b[0mArg16\u001b[0m\u001b[1;33m,\u001b[0m \u001b[0mArg17\u001b[0m\u001b[1;33m,\u001b[0m \u001b[0mArg18\u001b[0m\u001b[1;33m,\u001b[0m \u001b[0mArg19\u001b[0m\u001b[1;33m,\u001b[0m \u001b[0mArg20\u001b[0m\u001b[1;33m\u001b[0m\u001b[1;33m\u001b[0m\u001b[0m\n\u001b[0;32m  44659\u001b[0m                         \u001b[1;33m,\u001b[0m \u001b[0mArg21\u001b[0m\u001b[1;33m,\u001b[0m \u001b[0mArg22\u001b[0m\u001b[1;33m,\u001b[0m \u001b[0mArg23\u001b[0m\u001b[1;33m,\u001b[0m \u001b[0mArg24\u001b[0m\u001b[1;33m,\u001b[0m \u001b[0mArg25\u001b[0m\u001b[1;33m\u001b[0m\u001b[1;33m\u001b[0m\u001b[0m\n\u001b[1;32m> 44660\u001b[1;33m                         \u001b[1;33m,\u001b[0m \u001b[0mArg26\u001b[0m\u001b[1;33m,\u001b[0m \u001b[0mArg27\u001b[0m\u001b[1;33m,\u001b[0m \u001b[0mArg28\u001b[0m\u001b[1;33m,\u001b[0m \u001b[0mArg29\u001b[0m\u001b[1;33m,\u001b[0m \u001b[0mArg30\u001b[0m\u001b[1;33m\u001b[0m\u001b[1;33m\u001b[0m\u001b[0m\n\u001b[0m\u001b[0;32m  44661\u001b[0m \t\t\t)\n\u001b[0;32m  44662\u001b[0m \u001b[1;33m\u001b[0m\u001b[0m\n",
      "\u001b[1;32mC:\\ProgramData\\Anaconda3\\lib\\site-packages\\win32com\\client\\__init__.py\u001b[0m in \u001b[0;36m_ApplyTypes_\u001b[1;34m(self, dispid, wFlags, retType, argTypes, user, resultCLSID, *args)\u001b[0m\n\u001b[0;32m    465\u001b[0m         \u001b[1;32mdef\u001b[0m \u001b[0m_ApplyTypes_\u001b[0m\u001b[1;33m(\u001b[0m\u001b[0mself\u001b[0m\u001b[1;33m,\u001b[0m \u001b[0mdispid\u001b[0m\u001b[1;33m,\u001b[0m \u001b[0mwFlags\u001b[0m\u001b[1;33m,\u001b[0m \u001b[0mretType\u001b[0m\u001b[1;33m,\u001b[0m \u001b[0margTypes\u001b[0m\u001b[1;33m,\u001b[0m \u001b[0muser\u001b[0m\u001b[1;33m,\u001b[0m \u001b[0mresultCLSID\u001b[0m\u001b[1;33m,\u001b[0m \u001b[1;33m*\u001b[0m\u001b[0margs\u001b[0m\u001b[1;33m)\u001b[0m\u001b[1;33m:\u001b[0m\u001b[1;33m\u001b[0m\u001b[1;33m\u001b[0m\u001b[0m\n\u001b[0;32m    466\u001b[0m \t\treturn self._get_good_object_(\n\u001b[1;32m--> 467\u001b[1;33m                         \u001b[0mself\u001b[0m\u001b[1;33m.\u001b[0m\u001b[0m_oleobj_\u001b[0m\u001b[1;33m.\u001b[0m\u001b[0mInvokeTypes\u001b[0m\u001b[1;33m(\u001b[0m\u001b[0mdispid\u001b[0m\u001b[1;33m,\u001b[0m \u001b[1;36m0\u001b[0m\u001b[1;33m,\u001b[0m \u001b[0mwFlags\u001b[0m\u001b[1;33m,\u001b[0m \u001b[0mretType\u001b[0m\u001b[1;33m,\u001b[0m \u001b[0margTypes\u001b[0m\u001b[1;33m,\u001b[0m \u001b[1;33m*\u001b[0m\u001b[0margs\u001b[0m\u001b[1;33m)\u001b[0m\u001b[1;33m,\u001b[0m\u001b[1;33m\u001b[0m\u001b[1;33m\u001b[0m\u001b[0m\n\u001b[0m\u001b[0;32m    468\u001b[0m \t\t\tuser, resultCLSID)\n\u001b[0;32m    469\u001b[0m \u001b[1;33m\u001b[0m\u001b[0m\n",
      "\u001b[1;31mcom_error\u001b[0m: (-2147352567, 'Exception occurred.', (0, None, None, None, 0, -2146788248), None)"
     ]
    }
   ],
   "source": [
    "#after checking and happy with figures execute this and will save the stats to its requried folder in the right formatt\n",
    "ExcelMacro2 = wb.macro('SaveFile')\n",
    "ExcelMacro2()"
   ]
  },
  {
   "cell_type": "code",
   "execution_count": 369,
   "metadata": {},
   "outputs": [
    {
     "name": "stdout",
     "output_type": "stream",
     "text": [
      "Destination path: G:\\Internal\\CRT\\Team projects\\Charlies projects\\SDHY NBHY PAR Books\\stats data\\2021\\09-2021\\Supplemenatry materials\n"
     ]
    }
   ],
   "source": [
    "#saves a copy of the original template before the macro was executed( needed for pitchbook data and PAR Book template)\n",
    "src = (template)\n",
    "dst = (destination + year + \"\\\\\" + date + \"\\\\\" + \"Supplemenatry materials\")\n",
    "dest = shutil.copy(src= src, dst=dst)\n",
    "print(\"Destination path:\", dst)\n",
    "name = \"NB Short Duration High Yield\" + ' ' + month + ' ' + year + ' ' + \"Supplemental Statistics\" + ' ' + \"original.xlsm\"\n",
    "final = dst + \"\\\\\" + name \n",
    "old_file_name = dest\n",
    "new_file_name = final\n",
    "os.rename(old_file_name, new_file_name)"
   ]
  },
  {
   "cell_type": "code",
   "execution_count": null,
   "metadata": {},
   "outputs": [],
   "source": []
  },
  {
   "cell_type": "code",
   "execution_count": null,
   "metadata": {},
   "outputs": [],
   "source": []
  },
  {
   "cell_type": "code",
   "execution_count": 1,
   "metadata": {},
   "outputs": [],
   "source": [
    "#------------------------------------------------------------------------------------------------------------------------------------------------------------------------------------------------------------------------------------------------------------------------------------------------------------------\n",
    "#SDHY Statistics and ML Consolidated Industries Automation"
   ]
  },
  {
   "cell_type": "code",
   "execution_count": 158,
   "metadata": {},
   "outputs": [],
   "source": []
  },
  {
   "cell_type": "code",
   "execution_count": 195,
   "metadata": {},
   "outputs": [],
   "source": [
    "#calling the required templates, data files and sheets.\n",
    "\n",
    "name = \"SDHY Statistics and ML Consolidated Industries -\" + ' ' + full_date + ' ' +  \"Final.xlsm\"\n",
    "final2 = r\"\\\\nb\\corp\\groups\\CH\\CLBLC\\PRESENTATION\\Marketing\\Products\\Non-Investment Grade (Ann's Team (HY))\\Short Duration High Yield\\Supporting Data\" +  '\\\\' + name\n",
    "template2 = r\"G:\\Internal\\CRT\\Team projects\\Charlies projects\\SDHY NBHY PAR Books\\Template\\SDHY Statistics and ML Consolidated Industries TEMPLATE.xlsm\"\n",
    "dest2 = r\"\\\\nb.com\\corp\\groups\\LN\\Internal\\CRT\\Product reporting\\PAR books\\HY & Loans\\HY\" \n",
    "wb2 = xw.Book(template2, update_links=False)\n",
    "wb2.display_alerts = False\n",
    "\n",
    "main_sheet = wb2.sheets['Net Returns']\n",
    "performance_sheet = wb2.sheets['Performance Template']\n",
    "issuers_sheet = wb2.sheets['PB issuers']\n",
    "sr_source = wb2.sheets['SR Source']\n",
    "ML_data = wb2.sheets['PASTE ML DATA']\n",
    "energy = wb2.sheets['Energy Positioning v2']\n",
    "qtd_attribution = wb2.sheets['SDSHY QTD Attribution']\n",
    "ytd_attribtuion = wb2.sheets['SDSHY YTD Attribution']\n",
    "\n"
   ]
  },
  {
   "cell_type": "code",
   "execution_count": 196,
   "metadata": {},
   "outputs": [
    {
     "data": {
      "text/html": [
       "<div>\n",
       "<style scoped>\n",
       "    .dataframe tbody tr th:only-of-type {\n",
       "        vertical-align: middle;\n",
       "    }\n",
       "\n",
       "    .dataframe tbody tr th {\n",
       "        vertical-align: top;\n",
       "    }\n",
       "\n",
       "    .dataframe thead th {\n",
       "        text-align: right;\n",
       "    }\n",
       "</style>\n",
       "<table border=\"1\" class=\"dataframe\">\n",
       "  <thead>\n",
       "    <tr style=\"text-align: right;\">\n",
       "      <th></th>\n",
       "      <th>file_names</th>\n",
       "    </tr>\n",
       "  </thead>\n",
       "  <tbody>\n",
       "    <tr>\n",
       "      <th>0</th>\n",
       "      <td>G:\\Internal\\CRT\\Team projects\\Charlies project...</td>\n",
       "    </tr>\n",
       "    <tr>\n",
       "      <th>1</th>\n",
       "      <td>G:\\Internal\\CRT\\Team projects\\Charlies project...</td>\n",
       "    </tr>\n",
       "    <tr>\n",
       "      <th>2</th>\n",
       "      <td>G:\\Internal\\CRT\\Team projects\\Charlies project...</td>\n",
       "    </tr>\n",
       "  </tbody>\n",
       "</table>\n",
       "</div>"
      ],
      "text/plain": [
       "                                          file_names\n",
       "0  G:\\Internal\\CRT\\Team projects\\Charlies project...\n",
       "1  G:\\Internal\\CRT\\Team projects\\Charlies project...\n",
       "2  G:\\Internal\\CRT\\Team projects\\Charlies project..."
      ]
     },
     "execution_count": 196,
     "metadata": {},
     "output_type": "execute_result"
    }
   ],
   "source": [
    "path = ('G:\\\\Internal\\\\CRT\\\\Team projects\\\\Charlies projects\\\\SDHY NBHY PAR Books\\\\stats files')\n",
    "final_path = (path + '\\\\' + year + '\\\\' + date + '\\\\' + '*.*')\n",
    "LIST = glob.glob(final_path)\n",
    "LIST\n",
    "\n",
    "pd.set_option(\"display.max_columns\", 100)\n",
    "df = pd.DataFrame({'file_names':LIST})\n",
    "df.head()"
   ]
  },
  {
   "cell_type": "code",
   "execution_count": 197,
   "metadata": {},
   "outputs": [],
   "source": [
    "pi_package = df[\"file_names\"].iloc[1]\n",
    "pi2_package = df[\"file_names\"].iloc[0]\n",
    "UCITIS_package = df[\"file_names\"].iloc[2]\n",
    "df_mfp = pd.read_csv(UCITIS_package)"
   ]
  },
  {
   "cell_type": "code",
   "execution_count": 198,
   "metadata": {},
   "outputs": [],
   "source": [
    "#copying and pasting all the data needed\n",
    "\n",
    "#PI DATA 1\n",
    "main_sheet.select()\n",
    "main_sheet.range(\"A1\").select() \n",
    "data_package_sheet = xw.Book(pi_package)\n",
    "gp_sheet = data_package_sheet.sheets('Performance Statistics')\n",
    "green = gp_sheet.range('A1:M6').copy()\n",
    "main_sheet['A1:M6'].paste()\n",
    "data_package_sheet.app.api.CutCopyMode = False\n",
    "data_package_sheet.close()\n",
    "\n",
    "#PI DATA2\n",
    "performance_sheet.select()\n",
    "performance_sheet.range(\"A1\").select() \n",
    "data_package_sheet = xw.Book(pi2_package)\n",
    "gp_sheet = data_package_sheet.sheets('Performance Statistics')\n",
    "green = gp_sheet.range('A3:M7').copy()\n",
    "performance_sheet['A1:L5'].paste()\n",
    "data_package_sheet.app.api.CutCopyMode = False\n",
    "data_package_sheet.close()\n",
    "\n",
    "df_mfp = pd.read_csv(UCITIS_package)\n",
    "df_mfp = df_mfp[df_mfp['ISIN'].str.contains('IE00B7FN4C24', flags = re.I, na=False, regex=True)].reset_index(drop=True)\n",
    "TNA = df_mfp['TNA'].iloc[0] / 1000000\n",
    "performance_sheet.range('G8').value = TNA\n",
    "\n",
    "excel_app = xw.App(visible=False)\n",
    "excel_book = excel_app.books.open(final)\n",
    "stats_sheet = excel_book.sheets['Stats']\n",
    "test = stats_sheet.range('B1:B13').value\n",
    "\n",
    "sr_source.select()\n",
    "df3 = pd.read_excel(final, sheet_name='Stats')\n",
    "df3 = df3[['Stats', 'SDHY']].iloc[0:12]\n",
    "sr_source.range('B3').options(transpose=True).value = test\n",
    "\n",
    "type_sheet = excel_book.sheets['Type']\n",
    "Type = type_sheet.range('A6:B6').value\n",
    "sr_source.range('A27').value = Type\n",
    "\n",
    "ratings_sheet = excel_book.sheets['Ratings']\n",
    "rate = ratings_sheet.range('B18:B22').value\n",
    "sr_source.range('B62').options(transpose=True).value = rate\n",
    "\n",
    "\n",
    "ML_data.select()\n",
    "sectors_sheet = excel_book.sheets['Sectors']\n",
    "sec = sectors_sheet.range('A3:B40').value\n",
    "ML_data.range('G3').value = sec\n",
    "\n",
    "issuers_sheet.select()\n",
    "df2 = pd.read_excel(final, sheet_name='Issuers')\n",
    "issuer = df2[['Unnamed: 0', 'Market Value %']].iloc[1:11]\n",
    "issuer = issuer.rename(columns={\"Unnamed: 0\": \"Issuer\"})\n",
    "issuers_sheet.range('A6').value = issuer\n",
    "\n",
    "qtd_attribution.select()\n",
    "df5= pd.read_excel(final, sheet_name='SectorPerf')\n",
    "df5 = df5[['Explore', 'Unnamed: 1', 'Unnamed: 2', 'Unnamed: 3', 'Unnamed: 4', 'Unnamed: 5', 'Unnamed: 6', 'Unnamed: 7']]\n",
    "hey2= df5[df5['Explore'] == 'QTD - Sector Attribution'].index[0]\n",
    "hey3 = df5[df5['Explore'] == 'Explore'].index[1]\n",
    "df5 = df5.iloc[hey2:hey3].reset_index(drop=True)\n",
    "df5= df5.rename(columns=df5.loc[4])\n",
    "df5 = df5 = df5[:-2]\n",
    "df5 = df5[+5:].reset_index(drop=True)\n",
    "df5[df5.columns[7]] = df5[df5.columns[7]].div(100)\n",
    "qtd_attribution.range('Q12').options(index=False).value = df5\n",
    "\n",
    "ytd_attribtuion.select()\n",
    "df6= pd.read_excel(final, sheet_name='SectorPerf')\n",
    "df6 = df6[['Explore', 'Unnamed: 1', 'Unnamed: 2', 'Unnamed: 3', 'Unnamed: 4', 'Unnamed: 5', 'Unnamed: 6', 'Unnamed: 7']]\n",
    "hey4= df6[df6['Explore'] == 'YTD - Sector Attribution'].index[0]\n",
    "hey5 = df6[df6['Explore'] == 'Powered by BlackRock Solutions®'].index[0]\n",
    "df6 = df6.iloc[hey4:hey5].reset_index(drop=True)\n",
    "df6= df6.rename(columns=df6.loc[4])\n",
    "df6 = df6 = df6[:-2]\n",
    "df6 = df6[+5:].reset_index(drop=True)\n",
    "df6[df6.columns[7]] = df6[df6.columns[7]].div(100)\n",
    "ytd_attribtuion.range('Q12').options(index=False).value = df6\n",
    "\n",
    "\n",
    "energy.select()\n",
    "\n",
    "df3 = pd.read_excel(final, sheet_name='Data_tab')\n",
    "df3 = df3[['Explore', 'Unnamed: 1']]\n",
    "df3 = df3.rename(columns={\"Unnamed: 1\": \"Portfolio\"})\n",
    "hey = df3[df3['Explore'] == 'Energy report'].index[0]\n",
    "df3 = df3.iloc[hey:]\n",
    "df3 = df3 = df3[:-3]\n",
    "df3 = df3[+4:].reset_index(drop=True)\n",
    "df3\n",
    "\n",
    "energy.range('C19').value = df3\n",
    "energy.range('E20').value = '=E21+E22+E23+E25+E28'\n",
    "\n",
    "excel_app.quit()\n"
   ]
  },
  {
   "cell_type": "code",
   "execution_count": null,
   "metadata": {
    "scrolled": true
   },
   "outputs": [],
   "source": []
  },
  {
   "cell_type": "code",
   "execution_count": 12,
   "metadata": {},
   "outputs": [],
   "source": [
    "wb2.save(final2)\n",
    "wb2.close()"
   ]
  },
  {
   "cell_type": "code",
   "execution_count": 161,
   "metadata": {},
   "outputs": [],
   "source": []
  },
  {
   "cell_type": "code",
   "execution_count": 160,
   "metadata": {},
   "outputs": [],
   "source": [
    "#------------------------------------------------------------------------------------------------------------------------------------------------------------------------------------------------------------------------------------------------------------------------------------------------------------------\n",
    "# SDSHY PAR Book Automation"
   ]
  },
  {
   "cell_type": "code",
   "execution_count": 370,
   "metadata": {},
   "outputs": [
    {
     "data": {
      "text/plain": [
       "['G:\\\\Internal\\\\CRT\\\\Team projects\\\\Charlies projects\\\\SDHY NBHY PAR Books\\\\Parbook files\\\\2021\\\\09-2021\\\\PerformanceReturns_873658.xlsx',\n",
       " 'G:\\\\Internal\\\\CRT\\\\Team projects\\\\Charlies projects\\\\SDHY NBHY PAR Books\\\\Parbook files\\\\2021\\\\09-2021\\\\Report 5-186901647972.xlsx',\n",
       " 'G:\\\\Internal\\\\CRT\\\\Team projects\\\\Charlies projects\\\\SDHY NBHY PAR Books\\\\Parbook files\\\\2021\\\\09-2021\\\\SDSHY PAR Book file 09-2021.xlsx']"
      ]
     },
     "execution_count": 370,
     "metadata": {},
     "output_type": "execute_result"
    }
   ],
   "source": [
    "template3 = r\"G:\\Internal\\CRT\\Team projects\\Charlies projects\\SDHY NBHY PAR Books\\Template\\back up\\SDHY Par Book Template.xlsx\"\n",
    "dest2 = r\"\\\\nb.com\\corp\\groups\\LN\\Internal\\CRT\\Product reporting\\PAR books\\HY & Loans\\HY\" \n",
    "wb3 = xw.Book(template3, update_links=False)\n",
    "wb3.display_alerts = False\n",
    "\n",
    "pi_sheet = wb3.sheets['PI PERF']\n",
    "mfp_sheet = wb3.sheets['Returns_MFP']\n",
    "Sector_sheet = wb3.sheets['Sector_Att']\n",
    "ratings_att = wb3.sheets['Ratings_Att']\n",
    "issuers = wb3.sheets['Top10Issuer_Slide']\n",
    "\n",
    "\n",
    "path = ('G:\\\\Internal\\\\CRT\\\\Team projects\\\\Charlies projects\\\\SDHY NBHY PAR Books\\\\Parbook files')\n",
    "final_path = (path + '\\\\' + year + '\\\\' + date + '\\\\' + '*.*')\n",
    "LIST = glob.glob(final_path)\n",
    "LIST"
   ]
  },
  {
   "cell_type": "code",
   "execution_count": 371,
   "metadata": {},
   "outputs": [
    {
     "data": {
      "text/html": [
       "<div>\n",
       "<style scoped>\n",
       "    .dataframe tbody tr th:only-of-type {\n",
       "        vertical-align: middle;\n",
       "    }\n",
       "\n",
       "    .dataframe tbody tr th {\n",
       "        vertical-align: top;\n",
       "    }\n",
       "\n",
       "    .dataframe thead th {\n",
       "        text-align: right;\n",
       "    }\n",
       "</style>\n",
       "<table border=\"1\" class=\"dataframe\">\n",
       "  <thead>\n",
       "    <tr style=\"text-align: right;\">\n",
       "      <th></th>\n",
       "      <th>file_names</th>\n",
       "    </tr>\n",
       "  </thead>\n",
       "  <tbody>\n",
       "    <tr>\n",
       "      <th>0</th>\n",
       "      <td>G:\\Internal\\CRT\\Team projects\\Charlies project...</td>\n",
       "    </tr>\n",
       "    <tr>\n",
       "      <th>1</th>\n",
       "      <td>G:\\Internal\\CRT\\Team projects\\Charlies project...</td>\n",
       "    </tr>\n",
       "    <tr>\n",
       "      <th>2</th>\n",
       "      <td>G:\\Internal\\CRT\\Team projects\\Charlies project...</td>\n",
       "    </tr>\n",
       "  </tbody>\n",
       "</table>\n",
       "</div>"
      ],
      "text/plain": [
       "                                          file_names\n",
       "0  G:\\Internal\\CRT\\Team projects\\Charlies project...\n",
       "1  G:\\Internal\\CRT\\Team projects\\Charlies project...\n",
       "2  G:\\Internal\\CRT\\Team projects\\Charlies project..."
      ]
     },
     "execution_count": 371,
     "metadata": {},
     "output_type": "execute_result"
    }
   ],
   "source": [
    "pd.set_option(\"display.max_columns\", 100)\n",
    "df = pd.DataFrame({'file_names':LIST})\n",
    "df.head()"
   ]
  },
  {
   "cell_type": "code",
   "execution_count": 372,
   "metadata": {},
   "outputs": [],
   "source": [
    "pi_data = df[\"file_names\"].iloc[0]\n",
    "issue_data = df[\"file_names\"].iloc[1]"
   ]
  },
  {
   "cell_type": "code",
   "execution_count": 373,
   "metadata": {},
   "outputs": [
    {
     "name": "stdout",
     "output_type": "stream",
     "text": [
      "Destination path: \\\\nb.com\\corp\\groups\\LN\\Internal\\CRT\\Product reporting\\PAR books\\HY & Loans\\HY\\2021\\09-2021\\SDSHY PAR Book file 09-2021.xlsx\n"
     ]
    }
   ],
   "source": [
    "pi_sheet.select()\n",
    "pi_sheet.range(\"A1\").select() \n",
    "data_package_sheet = xw.Book(pi_data)\n",
    "gp_sheet = data_package_sheet.sheets('Performance Statistics')\n",
    "green = gp_sheet.range('A1:N7').copy()\n",
    "pi_sheet['A1:N7'].paste()\n",
    "data_package_sheet.app.api.CutCopyMode = False\n",
    "data_package_sheet.close()\n",
    "\n",
    "mfp_sheet.select()\n",
    "mfp_sheet.range(\"B:AA\").clear_contents()\n",
    "df_mfp = pd.read_csv(UCITIS_package)\n",
    "mfp_sheet.range('B1').options(index=False).value = df_mfp\n",
    "mfp_sheet.range('A:AA').autofit()\n",
    "mfp_sheet.range(\"B:AA\").api.AutoFilter(Field=4, Criteria1=\"Neuberger Berman Short Duration High Yield Bond Fund USD I Accumulating Class\")\n",
    "\n",
    "\n",
    "Sector_sheet.select()\n",
    "df5= pd.read_excel(final, sheet_name='SectorPerf')\n",
    "df5 = df5[['Explore', 'Unnamed: 1', 'Unnamed: 2', 'Unnamed: 3', 'Unnamed: 4', 'Unnamed: 5', 'Unnamed: 6', 'Unnamed: 7', 'Unnamed: 8', 'Unnamed: 9', 'Unnamed: 10', 'Unnamed: 11', 'Unnamed: 12']]\n",
    "hey2= df5[df5['Explore'] == 'MTD - Sector Attribution'].index[0]\n",
    "hey3 = df5[df5['Explore'] == 'Explore'].index[0]\n",
    "df5 = df5.iloc[hey2:hey3].reset_index(drop=True)\n",
    "df5= df5.rename(columns=df5.loc[4])\n",
    "df5 = df5 = df5[:-2]\n",
    "df5 = df5[+5:].reset_index(drop=True)\n",
    "Sector_sheet.range('C12').options(index=False).value = df5\n",
    "\n",
    "df6= pd.read_excel(final, sheet_name='SectorPerf')\n",
    "df6 = df6[['Explore', 'Unnamed: 1', 'Unnamed: 2', 'Unnamed: 3', 'Unnamed: 4', 'Unnamed: 5', 'Unnamed: 6', 'Unnamed: 7', 'Unnamed: 8', 'Unnamed: 9', 'Unnamed: 10', 'Unnamed: 11', 'Unnamed: 12']]\n",
    "hey4= df6[df6['Explore'] == 'YTD - Sector Attribution'].index[0]\n",
    "hey5 = df6[df6['Explore'] == 'Powered by BlackRock Solutions®'].index[0]\n",
    "df6 = df6.iloc[hey4:hey5].reset_index(drop=True)\n",
    "df6= df6.rename(columns=df6.loc[4])\n",
    "df6 = df6 = df6[:-2]\n",
    "df6 = df6[+5:].reset_index(drop=True)\n",
    "Sector_sheet.range('AZ12').options(index=False).value = df6\n",
    "\n",
    "df5= pd.read_excel(final, sheet_name='SectorPerf')\n",
    "df5 = df5[['Explore', 'Unnamed: 1', 'Unnamed: 2', 'Unnamed: 3', 'Unnamed: 4', 'Unnamed: 5', 'Unnamed: 6', 'Unnamed: 7', 'Unnamed: 8', 'Unnamed: 9', 'Unnamed: 10', 'Unnamed: 11', 'Unnamed: 12']]\n",
    "hey2= df5[df5['Explore'] == 'QTD - Sector Attribution'].index[0]\n",
    "hey3 = df5[df5['Explore'] == 'Explore'].index[1]\n",
    "df5 = df5.iloc[hey2:hey3].reset_index(drop=True)\n",
    "df5= df5.rename(columns=df5.loc[4])\n",
    "df5 = df5 = df5[:-2]\n",
    "df5 = df5[+5:].reset_index(drop=True)\n",
    "df5[df5.columns[7]] = df5[df5.columns[7]].div(100)\n",
    "Sector_sheet.range('BU12').options(index=False).value =  df5\n",
    "\n",
    "ratings_att.select()\n",
    "ratings_sheet = pd.read_excel(final, sheet_name='RatingsPerf')\n",
    "ratings_sheet = ratings_sheet[['Explore', 'Unnamed: 1', 'Unnamed: 2', 'Unnamed: 3', 'Unnamed: 4', 'Unnamed: 5', 'Unnamed: 6', 'Unnamed: 7', 'Unnamed: 8', 'Unnamed: 9', 'Unnamed: 10', 'Unnamed: 11', 'Unnamed: 12']]\n",
    "mtd_att = ratings_sheet[ratings_sheet['Explore'] == 'MTD - CCY Attribution'].index[0]\n",
    "mtd_att2 = ratings_sheet[ratings_sheet['Explore'] == 'Explore'].index[0]\n",
    "ratings_sheet = ratings_sheet.iloc[mtd_att:mtd_att2].reset_index(drop=True)\n",
    "ratings_sheet = ratings_sheet.rename(columns=ratings_sheet.loc[4])\n",
    "ratings_sheet = ratings_sheet = ratings_sheet[:-2]\n",
    "ratings_sheet = ratings_sheet[+5:].reset_index(drop=True)\n",
    "ratings_att.range('D12').options(index=False).value =  ratings_sheet\n",
    "\n",
    "ratings_sheet = pd.read_excel(final, sheet_name='RatingsPerf')\n",
    "ratings_sheet = ratings_sheet[['Explore', 'Unnamed: 1', 'Unnamed: 2', 'Unnamed: 3', 'Unnamed: 4', 'Unnamed: 5', 'Unnamed: 6', 'Unnamed: 7', 'Unnamed: 8', 'Unnamed: 9', 'Unnamed: 10', 'Unnamed: 11', 'Unnamed: 12']]\n",
    "mtd_att = ratings_sheet[ratings_sheet['Explore'] == 'YTD - CCY Attribution'].index[0]\n",
    "mtd_att2 = ratings_sheet[ratings_sheet['Explore'] == 'Powered by BlackRock Solutions®'].index[0]\n",
    "ratings_sheet = ratings_sheet.iloc[mtd_att:mtd_att2].reset_index(drop=True)\n",
    "ratings_sheet = ratings_sheet.rename(columns=ratings_sheet.loc[4])\n",
    "ratings_sheet = ratings_sheet = ratings_sheet[:-2]\n",
    "ratings_sheet = ratings_sheet[+5:].reset_index(drop=True)\n",
    "ratings_att.range('X12').options(index=False).value =  ratings_sheet\n",
    "\n",
    "ratings_sheet = pd.read_excel(final, sheet_name='RatingsPerf')\n",
    "ratings_sheet = ratings_sheet[['Explore', 'Unnamed: 1', 'Unnamed: 2', 'Unnamed: 3', 'Unnamed: 4', 'Unnamed: 5', 'Unnamed: 6', 'Unnamed: 7', 'Unnamed: 8', 'Unnamed: 9', 'Unnamed: 10', 'Unnamed: 11', 'Unnamed: 12']]\n",
    "mtd_att = ratings_sheet[ratings_sheet['Explore'] == 'QTD - CCY Attribution'].index[0]\n",
    "mtd_att2 = ratings_sheet[ratings_sheet['Explore'] == 'Explore'].index[1]\n",
    "ratings_sheet = ratings_sheet.iloc[mtd_att:mtd_att2].reset_index(drop=True)\n",
    "ratings_sheet = ratings_sheet.rename(columns=ratings_sheet.loc[4])\n",
    "ratings_sheet = ratings_sheet = ratings_sheet[:-2]\n",
    "ratings_sheet = ratings_sheet[+5:].reset_index(drop=True)\n",
    "ratings_att.range('AR12').options(index=False).value =  ratings_sheet\n",
    "\n",
    "issuers.select()\n",
    "example = pd.read_excel(issue_data)[['Explore', 'Unnamed: 1', 'Unnamed: 2', 'Unnamed: 3', 'Unnamed: 4', 'Unnamed: 5', 'Unnamed: 6', 'Unnamed: 7', 'Unnamed: 8', 'Unnamed: 9', 'Unnamed: 10', 'Unnamed: 11', 'Unnamed: 13', 'Unnamed: 14', 'Unnamed: 15', 'Unnamed: 16', 'Unnamed: 17', 'Unnamed: 18']]\n",
    "hey4 = example[example['Explore'] == 'Ticker Attribution - Month to Date'].index[0]\n",
    "hey3 = example[example['Explore'] == 'Explore'].index[0]\n",
    "example1 = example.iloc[hey4:hey3].reset_index(drop=True).rename(columns=example.loc[5])[:-2][+5:].reset_index(drop=True).drop(columns=['Filter Level 1', 'Description', 'Level',])\n",
    "example1[['Filter Level 3', 'ML Sector 35 with level 4 and ticker (NBGMLSECT_35_L4) - Level 1', 'ML Rating by issuer (MLRAT_TICK) - Level 1']] = example1[['Filter Level 3', 'ML Sector 35 with level 4 and ticker (NBGMLSECT_35_L4) - Level 1', 'ML Rating by issuer (MLRAT_TICK) - Level 1']].fillna(method='backfill')\n",
    "ticker_list1 = example1['Filter Level 2'].drop_duplicates().reset_index(drop=True)\n",
    "issuers.range('C38').options(index=False).value = example1\n",
    "issuers.range('A38').options(index=False, header=False).value = ticker_list1\n",
    "\n",
    "example = pd.read_excel(issue_data)[['Explore', 'Unnamed: 1', 'Unnamed: 2', 'Unnamed: 3', 'Unnamed: 4', 'Unnamed: 5', 'Unnamed: 6', 'Unnamed: 7', 'Unnamed: 8', 'Unnamed: 9', 'Unnamed: 10', 'Unnamed: 11', 'Unnamed: 13', 'Unnamed: 14', 'Unnamed: 15', 'Unnamed: 16', 'Unnamed: 17', 'Unnamed: 18']]\n",
    "hey4 = example[example['Explore'] == 'Ticker Attribution - Quarter to Date'].index[0]\n",
    "hey3 = example[example['Explore'] == 'Explore'].index[1]\n",
    "example1 = example.iloc[hey4:hey3].reset_index(drop=True).rename(columns=example.loc[5])[:-2][+5:].reset_index(drop=True).drop(columns=['Filter Level 1', 'Description', 'Level',])\n",
    "example1[['Filter Level 3', 'ML Sector 35 with level 4 and ticker (NBGMLSECT_35_L4) - Level 1', 'ML Rating by issuer (MLRAT_TICK) - Level 1']] = example1[['Filter Level 3', 'ML Sector 35 with level 4 and ticker (NBGMLSECT_35_L4) - Level 1', 'ML Rating by issuer (MLRAT_TICK) - Level 1']].fillna(method='backfill')\n",
    "ticker_list1 = example1['Filter Level 2'].drop_duplicates().reset_index(drop=True)\n",
    "issuers.range('U38').options(index=False).value = example1\n",
    "issuers.range('S38').options(index=False, header=False).value = ticker_list1\n",
    "\n",
    "example = pd.read_excel(issue_data)[['Explore', 'Unnamed: 1', 'Unnamed: 2', 'Unnamed: 3', 'Unnamed: 4', 'Unnamed: 5', 'Unnamed: 6', 'Unnamed: 7', 'Unnamed: 8', 'Unnamed: 9', 'Unnamed: 10', 'Unnamed: 11', 'Unnamed: 13', 'Unnamed: 14', 'Unnamed: 15', 'Unnamed: 16', 'Unnamed: 17', 'Unnamed: 18']]\n",
    "hey4 = example[example['Explore'] == 'Ticker Attribution - Year to Date'].index[0]\n",
    "hey3 = example[example['Explore'] == 'Powered by BlackRock Solutions®'].index[0]\n",
    "example1 = example.iloc[hey4:hey3].reset_index(drop=True).rename(columns=example.loc[5])[:-2][+5:].reset_index(drop=True).drop(columns=['Filter Level 1', 'Description', 'Level',])\n",
    "example1[['Filter Level 3', 'ML Sector 35 with level 4 and ticker (NBGMLSECT_35_L4) - Level 1', 'ML Rating by issuer (MLRAT_TICK) - Level 1']] = example1[['Filter Level 3', 'ML Sector 35 with level 4 and ticker (NBGMLSECT_35_L4) - Level 1', 'ML Rating by issuer (MLRAT_TICK) - Level 1']].fillna(method='backfill')\n",
    "ticker_list1 = example1['Filter Level 2'].drop_duplicates().reset_index(drop=True)\n",
    "issuers.range('AQ38').options(index=False).value = example1\n",
    "issuers.range('AO38').options(index=False, header=False).value = ticker_list1\n",
    "\n",
    "\n",
    "\n",
    "dest = r\"G:\\Internal\\CRT\\Team projects\\Charlies projects\\SDHY NBHY PAR Books\\Parbook files\" + '\\\\' + year + '\\\\' + date + '\\\\' + 'SDSHY PAR Book file' + ' ' + date + '.xlsx'\n",
    "src = dest\n",
    "dest2 = r\"\\\\nb.com\\corp\\groups\\LN\\Internal\\CRT\\Product reporting\\PAR books\\HY & Loans\\HY\" + '\\\\' + year + '\\\\' + date\n",
    "wb3.save(dest)\n",
    "\n",
    "wb3.close()\n",
    "final_dest = shutil.copy(src= src, dst=dest2)\n",
    "print(\"Destination path:\", final_dest)"
   ]
  },
  {
   "cell_type": "code",
   "execution_count": null,
   "metadata": {},
   "outputs": [],
   "source": []
  },
  {
   "cell_type": "code",
   "execution_count": 305,
   "metadata": {},
   "outputs": [
    {
     "data": {
      "text/plain": [
       "'G:\\\\Internal\\\\CRT\\\\Team projects\\\\Charlies projects\\\\SDHY NBHY PAR Books\\\\Parbook files\\\\2021\\\\09-2021\\\\SDSHY PAR Book file 09-2021.xlsx'"
      ]
     },
     "execution_count": 305,
     "metadata": {},
     "output_type": "execute_result"
    }
   ],
   "source": [
    "dest"
   ]
  },
  {
   "cell_type": "code",
   "execution_count": 62,
   "metadata": {},
   "outputs": [],
   "source": [
    "## Transfering excel and tables charts over to powerpoint\n",
    "#import win32com.client\n",
    "from win32com.client import constants\n",
    "\n",
    "PowerPoint=win32com.client.Dispatch(\"PowerPoint.Application\")\n",
    "Excel=win32com.client.Dispatch(\"Excel.Application\")\n",
    "\n",
    "\n",
    "presentation=PowerPoint.Presentations.Add(True)\n",
    "workbook=Excel.Workbooks.Open(Filename=r\"\\\\nb.com\\corp\\Users\\LN\\cbarrow\\Example.xlsx\",ReadOnly=1,UpdateLinks=False)\n",
    "\n",
    "for ws in workbook.Worksheets:\n",
    "    for chart in ws.ChartObjects():\n",
    "    # Copying all the charts from excel\n",
    "        chart.Activate()\n",
    "        chart.Copy()  \n",
    "\n",
    "        Slide=presentation.Slides.Add(presentation.Slides.Count+1,constants.ppLayoutBlank)\n",
    "        Slide.Shapes.PasteSpecial(constants.ppPasteShape)"
   ]
  },
  {
   "cell_type": "code",
   "execution_count": null,
   "metadata": {},
   "outputs": [],
   "source": []
  },
  {
   "cell_type": "code",
   "execution_count": 44,
   "metadata": {},
   "outputs": [],
   "source": []
  },
  {
   "cell_type": "code",
   "execution_count": null,
   "metadata": {},
   "outputs": [],
   "source": []
  },
  {
   "cell_type": "code",
   "execution_count": null,
   "metadata": {},
   "outputs": [],
   "source": []
  },
  {
   "cell_type": "code",
   "execution_count": null,
   "metadata": {},
   "outputs": [],
   "source": []
  }
 ],
 "metadata": {
  "kernelspec": {
   "display_name": "Python 3 (ipykernel)",
   "language": "python",
   "name": "python3"
  },
  "language_info": {
   "codemirror_mode": {
    "name": "ipython",
    "version": 3
   },
   "file_extension": ".py",
   "mimetype": "text/x-python",
   "name": "python",
   "nbconvert_exporter": "python",
   "pygments_lexer": "ipython3",
   "version": "3.7.1"
  }
 },
 "nbformat": 4,
 "nbformat_minor": 2
}
