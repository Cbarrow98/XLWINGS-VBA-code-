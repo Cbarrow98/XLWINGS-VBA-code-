{
 "cells": [
  {
   "cell_type": "code",
   "execution_count": 20,
   "metadata": {},
   "outputs": [
    {
     "data": {
      "text/html": [
       "<style>.container { width:100% !important; }</style>"
      ],
      "text/plain": [
       "<IPython.core.display.HTML object>"
      ]
     },
     "metadata": {},
     "output_type": "display_data"
    }
   ],
   "source": [
    "import pandas as pd\n",
    "import numpy as np\n",
    "import xlwings as xw\n",
    "from xlwings import view, load\n",
    "import regex as re\n",
    "import glob \n",
    "import xlwings.constants as win32c\n",
    "from IPython.core.display import display, HTML\n",
    "xw.display_alerts = False\n",
    "display(HTML(\"<style>.container { width:100% !important; }</style>\"))\n",
    "import win32"
   ]
  },
  {
   "cell_type": "code",
   "execution_count": 21,
   "metadata": {},
   "outputs": [],
   "source": [
    "TEMPLATE = (r\"G:\\Internal\\CRT\\Client reporting\\EMD\\EMD Client reports\\UAEHC\\2021\\10-October\\15.10.2021\\03 Exposure\\Weekly Exp Report - 15.10.2021 - Copy.xlsx\")\n",
    "wb = xw.Book(TEMPLATE, update_links=False)\n",
    "wb.display_alerts = False\n"
   ]
  },
  {
   "cell_type": "code",
   "execution_count": 22,
   "metadata": {},
   "outputs": [],
   "source": [
    "main_sheet = wb.sheets('Allocation by Issuer')"
   ]
  },
  {
   "cell_type": "code",
   "execution_count": null,
   "metadata": {},
   "outputs": [],
   "source": [
    "main_sheet.api.PivotTables('PivotTable19').PivotCache().refresh()"
   ]
  },
  {
   "cell_type": "code",
   "execution_count": null,
   "metadata": {},
   "outputs": [],
   "source": []
  },
  {
   "cell_type": "code",
   "execution_count": null,
   "metadata": {},
   "outputs": [],
   "source": []
  }
 ],
 "metadata": {
  "kernelspec": {
   "display_name": "Python 3 (ipykernel)",
   "language": "python",
   "name": "python3"
  },
  "language_info": {
   "codemirror_mode": {
    "name": "ipython",
    "version": 3
   },
   "file_extension": ".py",
   "mimetype": "text/x-python",
   "name": "python",
   "nbconvert_exporter": "python",
   "pygments_lexer": "ipython3",
   "version": "3.7.1"
  }
 },
 "nbformat": 4,
 "nbformat_minor": 2
}
